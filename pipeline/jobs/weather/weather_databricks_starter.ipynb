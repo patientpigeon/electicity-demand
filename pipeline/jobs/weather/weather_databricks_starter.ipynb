{
 "cells": [
  {
   "cell_type": "code",
   "execution_count": 0,
   "metadata": {
    "application/vnd.databricks.v1+cell": {
     "cellMetadata": {
      "byteLimit": 2048000,
      "rowLimit": 10000
     },
     "inputWidgets": {},
     "nuid": "dd752dc6-dd29-4a98-b23c-7b51dcecd5f3",
     "showTitle": false,
     "tableResultSettingsMap": {},
     "title": ""
    }
   },
   "outputs": [],
   "source": [
    "import sys, os\n",
    "\n",
    "# Get the app root directory, add it to our path, then import the main function for our pipeline\n",
    "app_root = os.path.abspath(os.path.join(os.path.dirname(\"__file__\"), \"..\", \"..\", \"..\"))\n",
    "sys.path.append(f\"{app_root}\")\n",
    "from pipeline.jobs.weather import weather_main\n",
    "from pipeline.utils import shared_helpers as sh"
   ]
  },
  {
   "cell_type": "code",
   "execution_count": 0,
   "metadata": {
    "application/vnd.databricks.v1+cell": {
     "cellMetadata": {
      "byteLimit": 2048000,
      "rowLimit": 10000
     },
     "inputWidgets": {},
     "nuid": "1ba3c6da-528f-4579-a291-3b58528759aa",
     "showTitle": false,
     "tableResultSettingsMap": {},
     "title": ""
    }
   },
   "outputs": [],
   "source": [
    "# Retrieve notebook parameters\n",
    "dbutils.widgets.text(\"extract_city\", \"\", \"extract_city\")\n",
    "dbutils.widgets.text(\"clean_input_table\", \"\", \"clean_input_table\")\n",
    "dbutils.widgets.text(\"clean_output_table\", \"\", \"clean_output_table\")\n",
    "dbutils.widgets.text(\"clean_write_options\", \"\", \"clean_write_options\")\n",
    "dbutils.widgets.text(\"clean_write_mode\", \"\", \"clean_write_mode\")\n",
    "\n",
    "extract_city = dbutils.widgets.get(\"extract_city\")\n",
    "clean_input_table = dbutils.widgets.get(\"clean_input_table\")\n",
    "clean_output_table = dbutils.widgets.get(\"clean_output_table\")\n",
    "clean_write_options = dbutils.widgets.get(\"clean_write_options\")\n",
    "clean_write_mode = dbutils.widgets.get(\"clean_write_mode\")\n",
    "\n",
    "# Run our pipeline\n",
    "try:\n",
    "    weather_main.main(\n",
    "        extract_city,\n",
    "        sh.default_start_date(),\n",
    "        sh.default_end_date(),\n",
    "        clean_input_table,\n",
    "        clean_output_table,\n",
    "        clean_write_options,\n",
    "        clean_write_mode,\n",
    "        spark,\n",
    "    )\n",
    "    print(\"Weather pipeline completed successfully!\")\n",
    "\n",
    "except Exception as e:\n",
    "    import traceback\n",
    "\n",
    "    traceback.print_exc()\n",
    "    sys.exit(e)"
   ]
  }
 ],
 "metadata": {
  "application/vnd.databricks.v1+notebook": {
   "computePreferences": {
    "hardware": {
     "accelerator": null,
     "gpuPoolId": null,
     "memory": null
    }
   },
   "dashboards": [],
   "environmentMetadata": {
    "base_environment": "",
    "dependencies": [
     "-r /Workspace/Users/andpurch@gmail.com/utility-demand-pipeline/requirements_databricks.txt"
    ],
    "environment_version": "3"
   },
   "inputWidgetPreferences": null,
   "language": "python",
   "notebookMetadata": {
    "pythonIndentUnit": 4
   },
   "notebookName": "weather_databricks_starter",
   "widgets": {
    "clean_input_table": {
     "currentValue": "gs://data-storage-999/schemas/utilities/weather_extract",
     "nuid": "8c00347b-62ab-448a-a13f-ea9a65c84ab2",
     "typedWidgetInfo": {
      "autoCreated": false,
      "defaultValue": "",
      "label": "clean_input_table",
      "name": "clean_input_table",
      "options": {
       "validationRegex": null,
       "widgetDisplayType": "Text"
      },
      "parameterDataType": "String"
     },
     "widgetInfo": {
      "defaultValue": "",
      "label": "clean_input_table",
      "name": "clean_input_table",
      "options": {
       "autoCreated": null,
       "validationRegex": null,
       "widgetType": "text"
      },
      "widgetType": "text"
     }
    },
    "clean_output_table": {
     "currentValue": "gs://data-storage-999/schemas/utilities/weather",
     "nuid": "fd0c4fdb-fd58-4514-ac4f-1e548fac0a9f",
     "typedWidgetInfo": {
      "autoCreated": false,
      "defaultValue": "",
      "label": "clean_output_table",
      "name": "clean_output_table",
      "options": {
       "validationRegex": null,
       "widgetDisplayType": "Text"
      },
      "parameterDataType": "String"
     },
     "widgetInfo": {
      "defaultValue": "",
      "label": "clean_output_table",
      "name": "clean_output_table",
      "options": {
       "autoCreated": null,
       "validationRegex": null,
       "widgetType": "text"
      },
      "widgetType": "text"
     }
    },
    "clean_write_mode": {
     "currentValue": "append",
     "nuid": "180cda0b-2e45-4f57-9101-b544cbc035d6",
     "typedWidgetInfo": {
      "autoCreated": false,
      "defaultValue": "",
      "label": "clean_write_mode",
      "name": "clean_write_mode",
      "options": {
       "validationRegex": null,
       "widgetDisplayType": "Text"
      },
      "parameterDataType": "String"
     },
     "widgetInfo": {
      "defaultValue": "",
      "label": "clean_write_mode",
      "name": "clean_write_mode",
      "options": {
       "autoCreated": null,
       "validationRegex": null,
       "widgetType": "text"
      },
      "widgetType": "text"
     }
    },
    "clean_write_options": {
     "currentValue": "{\"header\": \"true\", \"delta.columnMapping.mode\": \"name\"}",
     "nuid": "351e0634-ea49-468b-a9cd-e0c01c5dd036",
     "typedWidgetInfo": {
      "autoCreated": false,
      "defaultValue": "",
      "label": "clean_write_options",
      "name": "clean_write_options",
      "options": {
       "validationRegex": null,
       "widgetDisplayType": "Text"
      },
      "parameterDataType": "String"
     },
     "widgetInfo": {
      "defaultValue": "",
      "label": "clean_write_options",
      "name": "clean_write_options",
      "options": {
       "autoCreated": null,
       "validationRegex": null,
       "widgetType": "text"
      },
      "widgetType": "text"
     }
    },
    "extract_city": {
     "currentValue": "Portland",
     "nuid": "8f15d47a-0a7f-4538-a46b-f45f42b56cf5",
     "typedWidgetInfo": {
      "autoCreated": false,
      "defaultValue": "",
      "label": "extract_city",
      "name": "extract_city",
      "options": {
       "validationRegex": null,
       "widgetDisplayType": "Text"
      },
      "parameterDataType": "String"
     },
     "widgetInfo": {
      "defaultValue": "",
      "label": "extract_city",
      "name": "extract_city",
      "options": {
       "autoCreated": null,
       "validationRegex": null,
       "widgetType": "text"
      },
      "widgetType": "text"
     }
    },
    "extract_end_date": {
     "currentValue": "",
     "nuid": "9f715643-47c7-4858-8187-e33fefa60ae7",
     "typedWidgetInfo": {
      "autoCreated": false,
      "defaultValue": "",
      "label": "extract_end_date",
      "name": "extract_end_date",
      "options": {
       "validationRegex": null,
       "widgetDisplayType": "Text"
      },
      "parameterDataType": "String"
     },
     "widgetInfo": {
      "defaultValue": "",
      "label": "extract_end_date",
      "name": "extract_end_date",
      "options": {
       "autoCreated": null,
       "validationRegex": null,
       "widgetType": "text"
      },
      "widgetType": "text"
     }
    },
    "extract_start_date": {
     "currentValue": "",
     "nuid": "adfdd3ed-9449-4a35-8d95-e246eed27f0c",
     "typedWidgetInfo": {
      "autoCreated": false,
      "defaultValue": "2025-10-04",
      "label": "extract_start_date",
      "name": "extract_start_date",
      "options": {
       "validationRegex": null,
       "widgetDisplayType": "Text"
      },
      "parameterDataType": "String"
     },
     "widgetInfo": {
      "defaultValue": "2025-10-04",
      "label": "extract_start_date",
      "name": "extract_start_date",
      "options": {
       "autoCreated": null,
       "validationRegex": null,
       "widgetType": "text"
      },
      "widgetType": "text"
     }
    }
   }
  },
  "language_info": {
   "name": "python"
  }
 },
 "nbformat": 4,
 "nbformat_minor": 0
}
