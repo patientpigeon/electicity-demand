{
 "cells": [
  {
   "cell_type": "code",
   "execution_count": 0,
   "metadata": {
    "application/vnd.databricks.v1+cell": {
     "cellMetadata": {
      "byteLimit": 2048000,
      "rowLimit": 10000
     },
     "inputWidgets": {},
     "nuid": "2ad9d7a6-d4fa-465b-a913-d0d8704c3f06",
     "showTitle": true,
     "tableResultSettingsMap": {},
     "title": "imports"
    }
   },
   "outputs": [],
   "source": [
    "import sys, os\n",
    "\n",
    "# Get the app root directory, add it to our path, then import the main function for our pipeline\n",
    "app_root = os.path.abspath(os.path.join(os.path.dirname(\"__file__\"), \"..\", \"..\", \"..\"))\n",
    "sys.path.append(f\"{app_root}\")\n",
    "from pipeline.jobs.electricity_use import electricity_use_main"
   ]
  },
  {
   "cell_type": "code",
   "execution_count": 0,
   "metadata": {
    "application/vnd.databricks.v1+cell": {
     "cellMetadata": {
      "byteLimit": 2048000,
      "rowLimit": 10000
     },
     "inputWidgets": {},
     "nuid": "841e81fa-b9ce-462d-83a9-77900d3b683b",
     "showTitle": false,
     "tableResultSettingsMap": {},
     "title": ""
    }
   },
   "outputs": [],
   "source": [
    "# Retrieve notebook parameters\n",
    "dbutils.widgets.text(\"extract_zone\", \"\", \"extract_zone\")\n",
    "dbutils.widgets.text(\"clean_city\", \"\", \"clean_city\")\n",
    "dbutils.widgets.text(\"clean_input_table\", \"\", \"clean_input_table\")\n",
    "dbutils.widgets.text(\"clean_output_table\", \"\", \"clean_output_table\")\n",
    "dbutils.widgets.text(\n",
    "    \"clean_write_options\", '{\"header\": \"true\", \"delta.columnMapping.clean_write_mode\": \"name\"}', \"clean_write_options\"\n",
    ")\n",
    "dbutils.widgets.text(\"clean_write_mode\", \"append\", \"clean_write_mode\")\n",
    "\n",
    "extract_zone = dbutils.widgets.get(\"extract_zone\")\n",
    "clean_city = dbutils.widgets.get(\"clean_city\")\n",
    "clean_input_table = dbutils.widgets.get(\"clean_input_table\")\n",
    "clean_output_table = dbutils.widgets.get(\"clean_output_table\")\n",
    "clean_write_options = dbutils.widgets.get(\"clean_write_options\")\n",
    "clean_write_mode = dbutils.widgets.get(\"clean_write_mode\")\n",
    "\n",
    "\n",
    "# Run our pipeline\n",
    "try:\n",
    "    result = electricity_use_main.main(\n",
    "        extract_zone, clean_city, clean_input_table, clean_output_table, clean_write_options, clean_write_mode, spark\n",
    "    )\n",
    "    print(\"Electricity use pipeline completed successfully!\")\n",
    "\n",
    "except Exception as e:\n",
    "    import traceback\n",
    "\n",
    "    traceback.print_exc()\n",
    "    sys.exit(e)"
   ]
  }
 ],
 "metadata": {
  "application/vnd.databricks.v1+notebook": {
   "computePreferences": {
    "hardware": {
     "accelerator": null,
     "gpuPoolId": null,
     "memory": null
    }
   },
   "dashboards": [],
   "environmentMetadata": {
    "base_environment": "",
    "dependencies": [
     "-r /Workspace/Users/andpurch@gmail.com/utility-demand-pipeline/requirements_databricks.txt"
    ],
    "environment_version": "3"
   },
   "inputWidgetPreferences": null,
   "language": "python",
   "notebookMetadata": {
    "pythonIndentUnit": 4
   },
   "notebookName": "electricity_use_databricks_starter",
   "widgets": {
    "clean_city": {
     "currentValue": "Portland",
     "nuid": "f914325d-2e56-454e-96ae-5af87536ad4b",
     "typedWidgetInfo": {
      "autoCreated": false,
      "defaultValue": "",
      "label": "clean_city",
      "name": "clean_city",
      "options": {
       "widgetDisplayType": "Text",
       "validationRegex": null
      },
      "parameterDataType": "String"
     },
     "widgetInfo": {
      "widgetType": "text",
      "defaultValue": "",
      "label": "clean_city",
      "name": "clean_city",
      "options": {
       "widgetType": "text",
       "autoCreated": null,
       "validationRegex": null
      }
     }
    },
    "clean_input_table": {
     "currentValue": "gs://data-storage-999/schemas/utilities/electricity_use_extract",
     "nuid": "cd9691f5-b027-42b6-8a1b-274c2451c8e6",
     "typedWidgetInfo": {
      "autoCreated": false,
      "defaultValue": "",
      "label": "clean_input_table",
      "name": "clean_input_table",
      "options": {
       "widgetDisplayType": "Text",
       "validationRegex": null
      },
      "parameterDataType": "String"
     },
     "widgetInfo": {
      "widgetType": "text",
      "defaultValue": "",
      "label": "clean_input_table",
      "name": "clean_input_table",
      "options": {
       "widgetType": "text",
       "autoCreated": null,
       "validationRegex": null
      }
     }
    },
    "clean_output_table": {
     "currentValue": "gs://data-storage-999/schemas/utilities/electricity_use",
     "nuid": "4671acfc-22b1-47ff-84c8-52d9d9dd38a0",
     "typedWidgetInfo": {
      "autoCreated": false,
      "defaultValue": "",
      "label": "clean_output_table",
      "name": "clean_output_table",
      "options": {
       "widgetDisplayType": "Text",
       "validationRegex": null
      },
      "parameterDataType": "String"
     },
     "widgetInfo": {
      "widgetType": "text",
      "defaultValue": "",
      "label": "clean_output_table",
      "name": "clean_output_table",
      "options": {
       "widgetType": "text",
       "autoCreated": null,
       "validationRegex": null
      }
     }
    },
    "clean_write_mode": {
     "currentValue": "append",
     "nuid": "8461f0fc-f238-4161-a356-6170cd8ed959",
     "typedWidgetInfo": {
      "autoCreated": false,
      "defaultValue": "append",
      "label": "clean_write_mode",
      "name": "clean_write_mode",
      "options": {
       "widgetDisplayType": "Text",
       "validationRegex": null
      },
      "parameterDataType": "String"
     },
     "widgetInfo": {
      "widgetType": "text",
      "defaultValue": "append",
      "label": "clean_write_mode",
      "name": "clean_write_mode",
      "options": {
       "widgetType": "text",
       "autoCreated": null,
       "validationRegex": null
      }
     }
    },
    "clean_write_options": {
     "currentValue": "{\"header\": \"true\", \"delta.columnMapping.mode\": \"name\"}",
     "nuid": "847af5ff-aef6-4557-ad27-a535ee62488f",
     "typedWidgetInfo": {
      "autoCreated": false,
      "defaultValue": "{\"header\": \"true\", \"delta.columnMapping.clean_write_mode\": \"name\"}",
      "label": "clean_write_options",
      "name": "clean_write_options",
      "options": {
       "widgetDisplayType": "Text",
       "validationRegex": null
      },
      "parameterDataType": "String"
     },
     "widgetInfo": {
      "widgetType": "text",
      "defaultValue": "{\"header\": \"true\", \"delta.columnMapping.clean_write_mode\": \"name\"}",
      "label": "clean_write_options",
      "name": "clean_write_options",
      "options": {
       "widgetType": "text",
       "autoCreated": null,
       "validationRegex": null
      }
     }
    },
    "extract-zone": {
     "currentValue": "",
     "nuid": "f658dbb2-16c0-4905-b542-4ee2eb2ef52f",
     "typedWidgetInfo": {
      "autoCreated": false,
      "defaultValue": "",
      "label": "extract-zone",
      "name": "extract-zone",
      "options": {
       "widgetDisplayType": "Text",
       "validationRegex": null
      },
      "parameterDataType": "String"
     },
     "widgetInfo": {
      "widgetType": "text",
      "defaultValue": "",
      "label": "extract-zone",
      "name": "extract-zone",
      "options": {
       "widgetType": "text",
       "autoCreated": false,
       "validationRegex": null
      }
     }
    },
    "extract_zone": {
     "currentValue": "US-NW-PGE",
     "nuid": "29d4437b-8fd4-4e4d-8561-0d47ee401a22",
     "typedWidgetInfo": {
      "autoCreated": false,
      "defaultValue": "",
      "label": "extract_zone",
      "name": "extract_zone",
      "options": {
       "widgetDisplayType": "Text",
       "validationRegex": null
      },
      "parameterDataType": "String"
     },
     "widgetInfo": {
      "widgetType": "text",
      "defaultValue": "",
      "label": "extract_zone",
      "name": "extract_zone",
      "options": {
       "widgetType": "text",
       "autoCreated": null,
       "validationRegex": null
      }
     }
    }
   }
  },
  "language_info": {
   "name": "python"
  }
 },
 "nbformat": 4,
 "nbformat_minor": 0
}
