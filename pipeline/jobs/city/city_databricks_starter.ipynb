{
 "cells": [
  {
   "cell_type": "code",
   "execution_count": 0,
   "metadata": {
    "application/vnd.databricks.v1+cell": {
     "cellMetadata": {
      "byteLimit": 2048000,
      "rowLimit": 10000
     },
     "inputWidgets": {},
     "nuid": "d0e29898-4bf1-4a4e-b6ce-3c6b1d3398b3",
     "showTitle": false,
     "tableResultSettingsMap": {},
     "title": ""
    }
   },
   "outputs": [],
   "source": [
    "import sys, os\n",
    "\n",
    "# Get the app root directory, add it to our path, then import the main function for our pipeline\n",
    "app_root = os.path.abspath(os.path.join(os.path.dirname(\"__file__\"), \"..\", \"..\", \"..\"))\n",
    "sys.path.append(f\"{app_root}\")\n",
    "from pipeline.jobs.city import city_main\n",
    "from pipeline.utils import shared_helpers as sh"
   ]
  },
  {
   "cell_type": "code",
   "execution_count": 0,
   "metadata": {
    "application/vnd.databricks.v1+cell": {
     "cellMetadata": {
      "byteLimit": 2048000,
      "rowLimit": 10000
     },
     "inputWidgets": {},
     "nuid": "da851771-f375-446d-b086-414470ac216e",
     "showTitle": false,
     "tableResultSettingsMap": {},
     "title": ""
    }
   },
   "outputs": [],
   "source": [
    "# Retrieve notebook parameters\n",
    "dbutils.widgets.text(\"extract_input_file\", \"\", \"extract_input_file\")\n",
    "dbutils.widgets.text(\"extract_output_table\", \"\", \"extract_output_table\")\n",
    "dbutils.widgets.text(\"extract_file_type\", \"\", \"extract_file_type\")\n",
    "dbutils.widgets.text(\"extract_read_options\", \"\", \"extract_read_options\")\n",
    "dbutils.widgets.text(\"extract_write_options\", \"\", \"extract_write_options\")\n",
    "dbutils.widgets.text(\"extract_write_mode\", \"\", \"extract_write_mode\")\n",
    "dbutils.widgets.text(\"clean_input_table\", \"\", \"clean_input_table\")\n",
    "dbutils.widgets.text(\"clean_output_table\", \"\", \"clean_output_table\")\n",
    "dbutils.widgets.text(\"clean_write_options\", \"\", \"clean_write_options\")\n",
    "dbutils.widgets.text(\"clean_write_mode\", \"\", \"clean_write_mode\")\n",
    "\n",
    "extract_input_file = dbutils.widgets.get(\"extract_input_file\")\n",
    "extract_output_table = dbutils.widgets.get(\"extract_output_table\")\n",
    "extract_file_type = dbutils.widgets.get(\"extract_file_type\")\n",
    "extract_read_options = dbutils.widgets.get(\"extract_read_options\")\n",
    "extract_write_options = dbutils.widgets.get(\"extract_write_options\")\n",
    "extract_write_mode = dbutils.widgets.get(\"extract_write_mode\")\n",
    "clean_input_table = dbutils.widgets.get(\"clean_input_table\")\n",
    "clean_output_table = dbutils.widgets.get(\"clean_output_table\")\n",
    "clean_write_options = dbutils.widgets.get(\"clean_write_options\")\n",
    "clean_write_mode = dbutils.widgets.get(\"clean_write_mode\")"
   ]
  },
  {
   "cell_type": "code",
   "execution_count": 0,
   "metadata": {
    "application/vnd.databricks.v1+cell": {
     "cellMetadata": {},
     "inputWidgets": {},
     "nuid": "844e5680-cd77-41a2-a9bd-78fa1f60d6d5",
     "showTitle": false,
     "tableResultSettingsMap": {},
     "title": ""
    }
   },
   "outputs": [],
   "source": [
    "# Run our pipeline\n",
    "try:\n",
    "    city_main.main(\n",
    "        extract_input_file,\n",
    "        extract_output_table,\n",
    "        extract_file_type,\n",
    "        extract_read_options,\n",
    "        extract_write_options,\n",
    "        extract_write_mode,\n",
    "        clean_input_table,\n",
    "        clean_output_table,\n",
    "        clean_write_options,\n",
    "        clean_write_mode,\n",
    "        spark,\n",
    "    )\n",
    "    print(\"City pipeline completed successfully!\")\n",
    "\n",
    "except Exception as e:\n",
    "    import traceback\n",
    "\n",
    "    traceback.print_exc()\n",
    "    sys.exit(e)"
   ]
  }
 ],
 "metadata": {
  "application/vnd.databricks.v1+notebook": {
   "computePreferences": {
    "hardware": {
     "accelerator": null,
     "gpuPoolId": null,
     "memory": null
    }
   },
   "dashboards": [],
   "environmentMetadata": {
    "base_environment": "",
    "dependencies": [
     "-r /Workspace/Users/andpurch@gmail.com/utility-demand-pipeline/requirements_databricks.txt"
    ],
    "environment_version": "4"
   },
   "inputWidgetPreferences": null,
   "language": "python",
   "notebookMetadata": {
    "pythonIndentUnit": 4
   },
   "notebookName": "city_databricks_starter",
   "widgets": {
    "clean_input_table": {
     "currentValue": "",
     "nuid": "4498e2bf-054a-42f9-9806-cc16c6afeed8",
     "typedWidgetInfo": {
      "autoCreated": false,
      "defaultValue": "",
      "label": "clean_input_table",
      "name": "clean_input_table",
      "options": {
       "validationRegex": null,
       "widgetDisplayType": "Text"
      },
      "parameterDataType": "String"
     },
     "widgetInfo": {
      "defaultValue": "",
      "label": "clean_input_table",
      "name": "clean_input_table",
      "options": {
       "autoCreated": false,
       "validationRegex": null,
       "widgetType": "text"
      },
      "widgetType": "text"
     }
    },
    "clean_output_table": {
     "currentValue": "",
     "nuid": "dc9ba2e7-f6bc-4b80-b35f-e3f779c68ba3",
     "typedWidgetInfo": {
      "autoCreated": false,
      "defaultValue": "",
      "label": "clean_output_table",
      "name": "clean_output_table",
      "options": {
       "validationRegex": null,
       "widgetDisplayType": "Text"
      },
      "parameterDataType": "String"
     },
     "widgetInfo": {
      "defaultValue": "",
      "label": "clean_output_table",
      "name": "clean_output_table",
      "options": {
       "autoCreated": false,
       "validationRegex": null,
       "widgetType": "text"
      },
      "widgetType": "text"
     }
    },
    "clean_write_mode": {
     "currentValue": "",
     "nuid": "e4efe0a7-535f-4b8d-9a09-e7d67a25d3e0",
     "typedWidgetInfo": {
      "autoCreated": false,
      "defaultValue": "",
      "label": "clean_write_mode",
      "name": "clean_write_mode",
      "options": {
       "validationRegex": null,
       "widgetDisplayType": "Text"
      },
      "parameterDataType": "String"
     },
     "widgetInfo": {
      "defaultValue": "",
      "label": "clean_write_mode",
      "name": "clean_write_mode",
      "options": {
       "autoCreated": false,
       "validationRegex": null,
       "widgetType": "text"
      },
      "widgetType": "text"
     }
    },
    "clean_write_options": {
     "currentValue": "",
     "nuid": "cf5d34db-2560-4367-93ad-a8dec08cb38e",
     "typedWidgetInfo": {
      "autoCreated": false,
      "defaultValue": "",
      "label": "clean_write_options",
      "name": "clean_write_options",
      "options": {
       "validationRegex": null,
       "widgetDisplayType": "Text"
      },
      "parameterDataType": "String"
     },
     "widgetInfo": {
      "defaultValue": "",
      "label": "clean_write_options",
      "name": "clean_write_options",
      "options": {
       "autoCreated": false,
       "validationRegex": null,
       "widgetType": "text"
      },
      "widgetType": "text"
     }
    },
    "extract_file_type": {
     "currentValue": "",
     "nuid": "ba752d47-a6c3-4cac-a185-0b17c66bacce",
     "typedWidgetInfo": {
      "autoCreated": false,
      "defaultValue": "",
      "label": "extract_file_type",
      "name": "extract_file_type",
      "options": {
       "validationRegex": null,
       "widgetDisplayType": "Text"
      },
      "parameterDataType": "String"
     },
     "widgetInfo": {
      "defaultValue": "",
      "label": "extract_file_type",
      "name": "extract_file_type",
      "options": {
       "autoCreated": false,
       "validationRegex": null,
       "widgetType": "text"
      },
      "widgetType": "text"
     }
    },
    "extract_input_file": {
     "currentValue": "",
     "nuid": "ca12239f-7dfc-43ba-83cf-dbae319bcbe4",
     "typedWidgetInfo": {
      "autoCreated": false,
      "defaultValue": "",
      "label": "extract_input_file",
      "name": "extract_input_file",
      "options": {
       "validationRegex": null,
       "widgetDisplayType": "Text"
      },
      "parameterDataType": "String"
     },
     "widgetInfo": {
      "defaultValue": "",
      "label": "extract_input_file",
      "name": "extract_input_file",
      "options": {
       "autoCreated": false,
       "validationRegex": null,
       "widgetType": "text"
      },
      "widgetType": "text"
     }
    },
    "extract_output_table": {
     "currentValue": "",
     "nuid": "dfba8ff8-6357-4098-967d-53e6578e0fd7",
     "typedWidgetInfo": {
      "autoCreated": false,
      "defaultValue": "",
      "label": "extract_output_table",
      "name": "extract_output_table",
      "options": {
       "validationRegex": null,
       "widgetDisplayType": "Text"
      },
      "parameterDataType": "String"
     },
     "widgetInfo": {
      "defaultValue": "",
      "label": "extract_output_table",
      "name": "extract_output_table",
      "options": {
       "autoCreated": false,
       "validationRegex": null,
       "widgetType": "text"
      },
      "widgetType": "text"
     }
    },
    "extract_read_options": {
     "currentValue": "",
     "nuid": "22123b0b-9435-4ca8-b664-12ff553b41a1",
     "typedWidgetInfo": {
      "autoCreated": false,
      "defaultValue": "",
      "label": "extract_read_options",
      "name": "extract_read_options",
      "options": {
       "validationRegex": null,
       "widgetDisplayType": "Text"
      },
      "parameterDataType": "String"
     },
     "widgetInfo": {
      "defaultValue": "",
      "label": "extract_read_options",
      "name": "extract_read_options",
      "options": {
       "autoCreated": false,
       "validationRegex": null,
       "widgetType": "text"
      },
      "widgetType": "text"
     }
    },
    "extract_write_mode": {
     "currentValue": "",
     "nuid": "c9664454-394f-426d-8225-4e58dacfaba8",
     "typedWidgetInfo": {
      "autoCreated": false,
      "defaultValue": "",
      "label": "extract_write_mode",
      "name": "extract_write_mode",
      "options": {
       "validationRegex": null,
       "widgetDisplayType": "Text"
      },
      "parameterDataType": "String"
     },
     "widgetInfo": {
      "defaultValue": "",
      "label": "extract_write_mode",
      "name": "extract_write_mode",
      "options": {
       "autoCreated": false,
       "validationRegex": null,
       "widgetType": "text"
      },
      "widgetType": "text"
     }
    },
    "extract_write_options": {
     "currentValue": "",
     "nuid": "7655d324-c2c4-4957-bb66-03b4f8430a3c",
     "typedWidgetInfo": {
      "autoCreated": false,
      "defaultValue": "",
      "label": "extract_write_options",
      "name": "extract_write_options",
      "options": {
       "validationRegex": null,
       "widgetDisplayType": "Text"
      },
      "parameterDataType": "String"
     },
     "widgetInfo": {
      "defaultValue": "",
      "label": "extract_write_options",
      "name": "extract_write_options",
      "options": {
       "autoCreated": false,
       "validationRegex": null,
       "widgetType": "text"
      },
      "widgetType": "text"
     }
    }
   }
  },
  "language_info": {
   "name": "python"
  }
 },
 "nbformat": 4,
 "nbformat_minor": 0
}
